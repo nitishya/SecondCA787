{
 "cells": [
  {
   "cell_type": "markdown",
   "id": "3fa672fa",
   "metadata": {},
   "source": [
    "<h1 style='color:blue'>Control Structure</h1>"
   ]
  },
  {
   "cell_type": "markdown",
   "id": "7b0c74ee",
   "metadata": {},
   "source": [
    "# Python has three types of control structures \n",
    "<ul>\n",
    "<li>Sequential - default mode</li>\n",
    "<li>Selection - used for decisions and branching</li>\n",
    "<li>Repetition - used for looping, i.e., repeating a piece of code multiple times</li>\n",
    "</ul>"
   ]
  },
  {
   "cell_type": "markdown",
   "id": "b7b6a366",
   "metadata": {},
   "source": [
    "## 1.Sequential"
   ]
  },
  {
   "cell_type": "markdown",
   "id": "8e354cfa",
   "metadata": {},
   "source": [
    "<li>Sequential statements are a set of statements whose execution process happens in a sequence. The problem with sequential statements is that if the logic has broken in any one of the lines, then the complete source code execution will break.</li>"
   ]
  },
  {
   "cell_type": "code",
   "execution_count": 81,
   "id": "ce9d1ae0",
   "metadata": {},
   "outputs": [
    {
     "name": "stdout",
     "output_type": "stream",
     "text": [
      "Addition is :  30\n"
     ]
    }
   ],
   "source": [
    "## This is a Sequential statement\n",
    " \n",
    "x=20\n",
    "y=10\n",
    "z=x+y\n",
    "print(\"Addition is : \",z)"
   ]
  },
  {
   "cell_type": "markdown",
   "id": "124ffd5c",
   "metadata": {},
   "source": [
    "## 2. Selection/Decision control statements"
   ]
  },
  {
   "cell_type": "markdown",
   "id": "daf78e11",
   "metadata": {},
   "source": [
    "<li>The selection statement allows a program to test several conditions and execute instructions based on which condition is true.</li>"
   ]
  },
  {
   "cell_type": "code",
   "execution_count": 82,
   "id": "c644fdd1",
   "metadata": {},
   "outputs": [
    {
     "name": "stdout",
     "output_type": "stream",
     "text": [
      "n is odd\n"
     ]
    }
   ],
   "source": [
    "##This is decision control statement using if-else\n",
    "\n",
    "x = 7\n",
    "if x % 2 == 0:\n",
    "   print(\"n is even\")\n",
    "else:\n",
    "   print(\"n is odd\")"
   ]
  },
  {
   "cell_type": "markdown",
   "id": "472c2c1d",
   "metadata": {},
   "source": [
    "## 3. Repetition"
   ]
  },
  {
   "cell_type": "markdown",
   "id": "5f9af118",
   "metadata": {},
   "source": [
    "<li>A repetition statement is used to repeat a group(block) of programming instructions.</li>"
   ]
  },
  {
   "cell_type": "code",
   "execution_count": 83,
   "id": "49fd6dda",
   "metadata": {},
   "outputs": [
    {
     "name": "stdout",
     "output_type": "stream",
     "text": [
      "1 2 3 4 5 0 1 2 3 4 5 6 7 8 9 "
     ]
    }
   ],
   "source": [
    "##This is repetion using for loop\n",
    "\n",
    "lst = [1, 2, 3, 4, 5]\n",
    "for i in range(len(lst)):\n",
    "     print(lst[i], end = \" \")\n",
    " \n",
    "for j in range(0,10):\n",
    "    print(j, end = \" \")"
   ]
  },
  {
   "cell_type": "code",
   "execution_count": 84,
   "id": "ec05096b",
   "metadata": {},
   "outputs": [
    {
     "name": "stdout",
     "output_type": "stream",
     "text": [
      "0 1 2 3 4 End\n"
     ]
    }
   ],
   "source": [
    "##This is repetion using while loop\n",
    "\n",
    "m = 5\n",
    "i = 0\n",
    "while i < m:\n",
    "     print(i, end = \" \")\n",
    "     i = i + 1\n",
    "print(\"End\")"
   ]
  },
  {
   "cell_type": "markdown",
   "id": "697fc472",
   "metadata": {},
   "source": [
    "<h2 style='color:blue'>Functions </h2>"
   ]
  },
  {
   "cell_type": "markdown",
   "id": "eca0813a",
   "metadata": {},
   "source": [
    " <li>A function is a block of code which only runs when it is called.You can pass data, known as parameters, into a function.A function can return data as a result.</li>"
   ]
  },
  {
   "cell_type": "markdown",
   "id": "f99b1514",
   "metadata": {},
   "source": [
    "## 1.Function definition "
   ]
  },
  {
   "cell_type": "code",
   "execution_count": 85,
   "id": "31bf6878",
   "metadata": {},
   "outputs": [],
   "source": [
    "##This is definition of function \n",
    "\n",
    "def data_science():\n",
    "  print(\"welcome to the data world\")"
   ]
  },
  {
   "cell_type": "markdown",
   "id": "7863a696",
   "metadata": {},
   "source": [
    "## 2.Calling function "
   ]
  },
  {
   "cell_type": "code",
   "execution_count": 86,
   "id": "ae27016e",
   "metadata": {},
   "outputs": [
    {
     "name": "stdout",
     "output_type": "stream",
     "text": [
      "welcome to the data world\n"
     ]
    }
   ],
   "source": [
    "##This is calling a function named data_science\n",
    "\n",
    "data_science()"
   ]
  },
  {
   "cell_type": "markdown",
   "id": "8085fa16",
   "metadata": {},
   "source": [
    "## 3.Function with argument"
   ]
  },
  {
   "cell_type": "code",
   "execution_count": 87,
   "id": "74cea8df",
   "metadata": {},
   "outputs": [
    {
     "name": "stdout",
     "output_type": "stream",
     "text": [
      "CSE 2010\n"
     ]
    }
   ],
   "source": [
    "##This is defining a function with arguments and passing arguments to it.\n",
    "\n",
    "def data_class(dept, section):\n",
    "  print(dept + \" \" + section)\n",
    "\n",
    "data_class(\"CSE\", \"2010\")"
   ]
  },
  {
   "cell_type": "markdown",
   "id": "f53cec1b",
   "metadata": {},
   "source": [
    "<h2 style='color:blue'>File Handling </h2>"
   ]
  },
  {
   "cell_type": "markdown",
   "id": "463c3782",
   "metadata": {},
   "source": [
    "<li>The key function for working with files in Python is the open() function.</li>"
   ]
  },
  {
   "cell_type": "markdown",
   "id": "171b4120",
   "metadata": {},
   "source": [
    "## There are four different methods (modes) for opening a file: <br>\n",
    "\n",
    "\n",
    "<li>\"r\" - Read - Default value. Opens a file for reading, error if the file does not exist</li>\n",
    "<li>\"a\" - Append - Opens a file for appending, creates the file if it does not exist</li>\n",
    "<li>\"w\" - Write - Opens a file for writing, creates the file if it does not exist</li>\n",
    "<li>\"x\" - Create - Creates the specified file, returns an error if the file exists</li>"
   ]
  },
  {
   "cell_type": "code",
   "execution_count": 88,
   "id": "28aeb047",
   "metadata": {},
   "outputs": [],
   "source": [
    "##This is command for opening a file which is already created\n",
    "\n",
    "f = open(\"data science CA.txt\")"
   ]
  },
  {
   "cell_type": "code",
   "execution_count": 89,
   "id": "eaf57710",
   "metadata": {},
   "outputs": [
    {
     "name": "stdout",
     "output_type": "stream",
     "text": [
      "Woops! I have deleted the content!\n"
     ]
    }
   ],
   "source": [
    "##This is to read the file \n",
    "\n",
    "print(f.read())"
   ]
  },
  {
   "cell_type": "code",
   "execution_count": 90,
   "id": "3fbd09cf",
   "metadata": {},
   "outputs": [],
   "source": [
    "##CLose the file after use.\n",
    "\n",
    "f.close()"
   ]
  },
  {
   "cell_type": "markdown",
   "id": "77f9499f",
   "metadata": {},
   "source": [
    "## Write to an Existing File\n",
    "<li>\"a\" - Append - will append to the end of the file</li>\n",
    "\n",
    "<li>\"w\" - Write - will overwrite any existing content</li>"
   ]
  },
  {
   "cell_type": "code",
   "execution_count": 91,
   "id": "f762030a",
   "metadata": {},
   "outputs": [],
   "source": [
    "##Write in the file at the end of previous content.\n",
    "\n",
    "f = open(\"data science CA.txt\", \"a\")\n",
    "f.write(\"Now the file has more content!\")\n",
    "f.close()"
   ]
  },
  {
   "cell_type": "code",
   "execution_count": 92,
   "id": "e92d32e8",
   "metadata": {},
   "outputs": [
    {
     "name": "stdout",
     "output_type": "stream",
     "text": [
      "Woops! I have deleted the content!Now the file has more content!\n"
     ]
    }
   ],
   "source": [
    "#open and read the file after the appending:\n",
    "\n",
    "f = open(\"data science CA.txt\", \"r\")\n",
    "print(f.read())\n",
    "f.close()"
   ]
  },
  {
   "cell_type": "code",
   "execution_count": 93,
   "id": "f2ae4caa",
   "metadata": {},
   "outputs": [],
   "source": [
    "f = open(\"data science CA.txt\", \"w\")\n",
    "f.write(\"Woops! I have deleted the content!\")\n",
    "f.close()"
   ]
  },
  {
   "cell_type": "code",
   "execution_count": 94,
   "id": "50614163",
   "metadata": {},
   "outputs": [
    {
     "name": "stdout",
     "output_type": "stream",
     "text": [
      "Woops! I have deleted the content!\n"
     ]
    }
   ],
   "source": [
    "#open and read the file after the appending:\n",
    "f = open(\"data science CA.txt\", \"r\")\n",
    "print(f.read())"
   ]
  },
  {
   "cell_type": "markdown",
   "id": "82916857",
   "metadata": {},
   "source": [
    "## Create a New File\n",
    "\n",
    "### To create a new file in Python, use the open() method, with one of the following parameters:\n",
    "\n",
    "<li>\"x\" - Create - will create a file, returns an error if the file exist</li>\n",
    "\n",
    "<li>\"a\" - Append - will create a file if the specified file does not exist</li>\n",
    "\n",
    "<li>\"w\" - Write - will create a file if the specified file does not exist</li>"
   ]
  },
  {
   "cell_type": "code",
   "execution_count": 95,
   "id": "ae10196f",
   "metadata": {},
   "outputs": [],
   "source": [
    "##new file will be created if it doesnt exist\n",
    "\n",
    "f = open(\"myfile.txt\", \"x\")"
   ]
  },
  {
   "cell_type": "code",
   "execution_count": 96,
   "id": "ace6054d",
   "metadata": {},
   "outputs": [],
   "source": [
    "f.close()"
   ]
  },
  {
   "cell_type": "code",
   "execution_count": 97,
   "id": "056555cd",
   "metadata": {},
   "outputs": [],
   "source": [
    "##delete a file \n",
    "\n",
    "import os \n",
    "os.remove(\"myfile.txt\")"
   ]
  },
  {
   "cell_type": "code",
   "execution_count": null,
   "id": "c9753183",
   "metadata": {},
   "outputs": [],
   "source": []
  }
 ],
 "metadata": {
  "kernelspec": {
   "display_name": "Python 3",
   "language": "python",
   "name": "python3"
  },
  "language_info": {
   "codemirror_mode": {
    "name": "ipython",
    "version": 3
   },
   "file_extension": ".py",
   "mimetype": "text/x-python",
   "name": "python",
   "nbconvert_exporter": "python",
   "pygments_lexer": "ipython3",
   "version": "3.8.8"
  }
 },
 "nbformat": 4,
 "nbformat_minor": 5
}
